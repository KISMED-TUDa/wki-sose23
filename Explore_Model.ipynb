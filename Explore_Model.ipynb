{
 "cells": [
  {
   "cell_type": "code",
   "execution_count": 26,
   "id": "623b27e7-7387-420b-94e6-1ddf2d3fe749",
   "metadata": {
    "tags": []
   },
   "outputs": [
    {
     "name": "stdout",
     "output_type": "stream",
     "text": [
      "Requirement already satisfied: scipy>=1.4.1 in c:\\users\\maurice\\anaconda3\\envs\\wki-ss23\\lib\\site-packages (from -r requirements.txt (line 1)) (1.4.1)\n",
      "Requirement already satisfied: matplotlib>=3.3.0 in c:\\users\\maurice\\anaconda3\\envs\\wki-ss23\\lib\\site-packages (from -r requirements.txt (line 2)) (3.3.0)\n",
      "Requirement already satisfied: numpy>=1.18.5 in c:\\users\\maurice\\anaconda3\\envs\\wki-ss23\\lib\\site-packages (from -r requirements.txt (line 3)) (1.18.5)\n",
      "Requirement already satisfied: pandas>=1.1.0 in c:\\users\\maurice\\anaconda3\\envs\\wki-ss23\\lib\\site-packages (from -r requirements.txt (line 4)) (1.1.0)\n",
      "Requirement already satisfied: mne>=1.3.1 in c:\\users\\maurice\\anaconda3\\envs\\wki-ss23\\lib\\site-packages (from -r requirements.txt (line 5)) (1.3.1)\n",
      "Requirement already satisfied: ruptures>=1.1.7 in c:\\users\\maurice\\anaconda3\\envs\\wki-ss23\\lib\\site-packages (from -r requirements.txt (line 6)) (1.1.7)\n",
      "Requirement already satisfied: mysql-connector-python>=8.0.26 in c:\\users\\maurice\\anaconda3\\envs\\wki-ss23\\lib\\site-packages (from -r requirements.txt (line 7)) (8.0.26)\n",
      "Requirement already satisfied: pyparsing!=2.0.4,!=2.1.2,!=2.1.6,>=2.0.3 in c:\\users\\maurice\\anaconda3\\envs\\wki-ss23\\lib\\site-packages (from matplotlib>=3.3.0->-r requirements.txt (line 2)) (3.0.9)\n",
      "Requirement already satisfied: kiwisolver>=1.0.1 in c:\\users\\maurice\\anaconda3\\envs\\wki-ss23\\lib\\site-packages (from matplotlib>=3.3.0->-r requirements.txt (line 2)) (1.4.4)\n",
      "Requirement already satisfied: python-dateutil>=2.1 in c:\\users\\maurice\\anaconda3\\envs\\wki-ss23\\lib\\site-packages (from matplotlib>=3.3.0->-r requirements.txt (line 2)) (2.8.2)\n",
      "Requirement already satisfied: pillow>=6.2.0 in c:\\users\\maurice\\anaconda3\\envs\\wki-ss23\\lib\\site-packages (from matplotlib>=3.3.0->-r requirements.txt (line 2)) (9.4.0)\n",
      "Requirement already satisfied: cycler>=0.10 in c:\\users\\maurice\\anaconda3\\envs\\wki-ss23\\lib\\site-packages (from matplotlib>=3.3.0->-r requirements.txt (line 2)) (0.11.0)\n",
      "Requirement already satisfied: pytz>=2017.2 in c:\\users\\maurice\\anaconda3\\envs\\wki-ss23\\lib\\site-packages (from pandas>=1.1.0->-r requirements.txt (line 4)) (2023.3)\n",
      "Requirement already satisfied: tqdm in c:\\users\\maurice\\anaconda3\\envs\\wki-ss23\\lib\\site-packages (from mne>=1.3.1->-r requirements.txt (line 5)) (4.65.0)\n",
      "Requirement already satisfied: packaging in c:\\users\\maurice\\anaconda3\\envs\\wki-ss23\\lib\\site-packages (from mne>=1.3.1->-r requirements.txt (line 5)) (23.0)\n",
      "Requirement already satisfied: pooch>=1.5 in c:\\users\\maurice\\anaconda3\\envs\\wki-ss23\\lib\\site-packages (from mne>=1.3.1->-r requirements.txt (line 5)) (1.7.0)\n",
      "Requirement already satisfied: jinja2 in c:\\users\\maurice\\anaconda3\\envs\\wki-ss23\\lib\\site-packages (from mne>=1.3.1->-r requirements.txt (line 5)) (3.1.2)\n",
      "Requirement already satisfied: decorator in c:\\users\\maurice\\anaconda3\\envs\\wki-ss23\\lib\\site-packages (from mne>=1.3.1->-r requirements.txt (line 5)) (5.1.1)\n",
      "Requirement already satisfied: protobuf>=3.0.0 in c:\\users\\maurice\\anaconda3\\envs\\wki-ss23\\lib\\site-packages (from mysql-connector-python>=8.0.26->-r requirements.txt (line 7)) (4.22.1)\n",
      "Requirement already satisfied: requests>=2.19.0 in c:\\users\\maurice\\anaconda3\\envs\\wki-ss23\\lib\\site-packages (from pooch>=1.5->mne>=1.3.1->-r requirements.txt (line 5)) (2.28.2)\n",
      "Requirement already satisfied: platformdirs>=2.5.0 in c:\\users\\maurice\\anaconda3\\envs\\wki-ss23\\lib\\site-packages (from pooch>=1.5->mne>=1.3.1->-r requirements.txt (line 5)) (3.2.0)\n",
      "Requirement already satisfied: six>=1.5 in c:\\users\\maurice\\anaconda3\\envs\\wki-ss23\\lib\\site-packages (from python-dateutil>=2.1->matplotlib>=3.3.0->-r requirements.txt (line 2)) (1.16.0)\n",
      "Requirement already satisfied: MarkupSafe>=2.0 in c:\\users\\maurice\\anaconda3\\envs\\wki-ss23\\lib\\site-packages (from jinja2->mne>=1.3.1->-r requirements.txt (line 5)) (2.1.2)\n",
      "Requirement already satisfied: colorama in c:\\users\\maurice\\anaconda3\\envs\\wki-ss23\\lib\\site-packages (from tqdm->mne>=1.3.1->-r requirements.txt (line 5)) (0.4.6)\n",
      "Requirement already satisfied: urllib3<1.27,>=1.21.1 in c:\\users\\maurice\\anaconda3\\envs\\wki-ss23\\lib\\site-packages (from requests>=2.19.0->pooch>=1.5->mne>=1.3.1->-r requirements.txt (line 5)) (1.26.15)\n",
      "Requirement already satisfied: idna<4,>=2.5 in c:\\users\\maurice\\anaconda3\\envs\\wki-ss23\\lib\\site-packages (from requests>=2.19.0->pooch>=1.5->mne>=1.3.1->-r requirements.txt (line 5)) (3.4)\n",
      "Requirement already satisfied: charset-normalizer<4,>=2 in c:\\users\\maurice\\anaconda3\\envs\\wki-ss23\\lib\\site-packages (from requests>=2.19.0->pooch>=1.5->mne>=1.3.1->-r requirements.txt (line 5)) (3.1.0)\n",
      "Requirement already satisfied: certifi>=2017.4.17 in c:\\users\\maurice\\anaconda3\\envs\\wki-ss23\\lib\\site-packages (from requests>=2.19.0->pooch>=1.5->mne>=1.3.1->-r requirements.txt (line 5)) (2022.12.7)\n"
     ]
    }
   ],
   "source": [
    "!pip install --user -r requirements.txt"
   ]
  },
  {
   "cell_type": "code",
   "execution_count": 1,
   "id": "5d8f6492",
   "metadata": {},
   "outputs": [],
   "source": [
    "from scipy.io import loadmat\n",
    "import os\n",
    "from os import path"
   ]
  },
  {
   "cell_type": "code",
   "execution_count": 2,
   "id": "0dbb9b76",
   "metadata": {},
   "outputs": [
    {
     "name": "stdout",
     "output_type": "stream",
     "text": [
      "Y:\\Projektseminar\\Frankfurt EEG Daten Mat\\GTKA_pat_2.mat\n"
     ]
    }
   ],
   "source": [
    "base_folder = r\"Y:\\Projektseminar\\Frankfurt EEG Daten Mat\"\n",
    "file_name = path.join(base_folder,'GTKA_pat_2.mat')\n",
    "print(file_name)\n",
    "if path.exists(file_name):\n",
    "    pat_data = loadmat(file_name)\n",
    "else : print('File does not exist!')"
   ]
  },
  {
   "cell_type": "code",
   "execution_count": 3,
   "id": "6eefaf6d",
   "metadata": {},
   "outputs": [
    {
     "data": {
      "text/plain": [
       "dict_keys(['__header__', '__version__', '__globals__', 'channels', 'data', 'onset', 'onsetS', 'offset', 'offsetS', 'fs'])"
      ]
     },
     "execution_count": 3,
     "metadata": {},
     "output_type": "execute_result"
    }
   ],
   "source": [
    "pat_data.keys()"
   ]
  },
  {
   "cell_type": "code",
   "execution_count": 4,
   "id": "d1f88478",
   "metadata": {},
   "outputs": [
    {
     "data": {
      "text/plain": [
       "'Fp1'"
      ]
     },
     "execution_count": 4,
     "metadata": {},
     "output_type": "execute_result"
    }
   ],
   "source": [
    "# channels is cell array. Cell array has this weird indexing where we now need use the index of the second array\n",
    "pat_data['channels'][0][0][0]"
   ]
  },
  {
   "cell_type": "code",
   "execution_count": 31,
   "id": "fef8777d",
   "metadata": {},
   "outputs": [
    {
     "data": {
      "text/plain": [
       "array([[array(['Fp1'], dtype='<U3'), array(['Tp10'], dtype='<U4'),\n",
       "        array(['Fp2'], dtype='<U3'), array(['F7'], dtype='<U2'),\n",
       "        array(['F3'], dtype='<U2'), array(['Fz'], dtype='<U2'),\n",
       "        array(['F4'], dtype='<U2'), array(['F8'], dtype='<U2'),\n",
       "        array(['T3'], dtype='<U2'), array(['C3'], dtype='<U2'),\n",
       "        array(['Cz'], dtype='<U2'), array(['C4'], dtype='<U2'),\n",
       "        array(['T4'], dtype='<U2'), array(['T5'], dtype='<U2'),\n",
       "        array(['P3'], dtype='<U2'), array(['Pz'], dtype='<U2'),\n",
       "        array(['P4'], dtype='<U2'), array(['T6'], dtype='<U2'),\n",
       "        array(['O1'], dtype='<U2'), array(['Tp9'], dtype='<U3'),\n",
       "        array(['O2'], dtype='<U2'), array(['FT9'], dtype='<U3'),\n",
       "        array(['FT10'], dtype='<U4'), array(['EMG1+'], dtype='<U5'),\n",
       "        array(['EMG2+'], dtype='<U5'), array(['EMG3+'], dtype='<U5'),\n",
       "        array(['EMG4+'], dtype='<U5'), array(['EKG+'], dtype='<U4'),\n",
       "        array(['EOG+'], dtype='<U4'), array(['Sp1'], dtype='<U3'),\n",
       "        array(['Sp2'], dtype='<U3'), array(['thor+'], dtype='<U5'),\n",
       "        array(['abdo+'], dtype='<U5'), array(['xyz+'], dtype='<U4'),\n",
       "        array(['PULS+'], dtype='<U5'), array(['BEAT+'], dtype='<U5'),\n",
       "        array(['SpO2+'], dtype='<U5'), array(['MKR+'], dtype='<U4')]],\n",
       "      dtype=object)"
      ]
     },
     "execution_count": 31,
     "metadata": {},
     "output_type": "execute_result"
    }
   ],
   "source": [
    "pat_data['channels']"
   ]
  },
  {
   "cell_type": "code",
   "execution_count": 7,
   "id": "5322d33c",
   "metadata": {},
   "outputs": [],
   "source": [
    "all_files = os.listdir(base_folder)\n",
    "all_files = [f for f in all_files if f.endswith('.mat')]\n",
    "channels = list()\n",
    "for f in all_files:\n",
    "    data = loadmat(path.join(base_folder,f))\n",
    "    _channels = data['channels'][0]\n",
    "    _channels = [_channels[i][0] for i in range(_channels.shape[0])]\n",
    "    channels.append(_channels)"
   ]
  },
  {
   "cell_type": "code",
   "execution_count": null,
   "id": "31579fbd",
   "metadata": {},
   "outputs": [],
   "source": []
  }
 ],
 "metadata": {
  "kernelspec": {
   "display_name": "wki-ss23",
   "language": "python",
   "name": "python3"
  },
  "language_info": {
   "codemirror_mode": {
    "name": "ipython",
    "version": 3
   },
   "file_extension": ".py",
   "mimetype": "text/x-python",
   "name": "python",
   "nbconvert_exporter": "python",
   "pygments_lexer": "ipython3",
   "version": "3.8.16"
  }
 },
 "nbformat": 4,
 "nbformat_minor": 5
}
